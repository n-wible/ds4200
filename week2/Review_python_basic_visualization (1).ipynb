{
 "cells": [
  {
   "cell_type": "markdown",
   "id": "5838d063",
   "metadata": {},
   "source": [
    "## Review on basic Python data visualziation and data summary \n",
    "\n",
    "### Goal for today： \n",
    "\n",
    "- Review on basic data structure\n",
    "- Understand basic rules to choose figure type\n",
    "- Learn how to describe data and simple figures \n",
    "- Review basic plotting options in Python (matplotlib and seaborn)\n"
   ]
  },
  {
   "cell_type": "markdown",
   "id": "9fe22beb",
   "metadata": {},
   "source": [
    "### Describing a data set\n",
    "\n",
    "In a data table (also called ``data matrix\"), like the one below. There are two dimensions in the data: \n",
    "\n",
    "- Observations: each individual subject, case, or sample point (rows, represented with $n$)\n",
    "- Variables/Feature: characteristics that are recorded for each subject in the sample (columns, represented with $p$)\n"
   ]
  },
  {
   "cell_type": "code",
   "id": "1c074044",
   "metadata": {
    "ExecuteTime": {
     "end_time": "2025-09-11T15:03:16.000078Z",
     "start_time": "2025-09-11T15:03:15.997973Z"
    }
   },
   "source": "import pandas as pd",
   "outputs": [],
   "execution_count": 8
  },
  {
   "metadata": {
    "ExecuteTime": {
     "end_time": "2025-09-11T15:04:22.847737Z",
     "start_time": "2025-09-11T15:04:22.843498Z"
    }
   },
   "cell_type": "code",
   "source": "df = pd.read_csv('ICUAdmissions.csv')",
   "id": "d58e61353f0aa995",
   "outputs": [],
   "execution_count": 11
  },
  {
   "cell_type": "markdown",
   "id": "7f6746d1",
   "metadata": {},
   "source": [
    "### Describing variables\n",
    "\n",
    "There are at least two ways to describe variables:\n",
    "\t\t\n",
    "By value type:\n",
    "\t\t\n",
    "- Numerical variables: take on numerical values with meaning Mathematical operations like addition, etc. must make sense\n",
    "- Categorical variables: take on names, categories, or labels Categories are sometimes represented by numbers...\n",
    "\n",
    "By function:\n",
    "\t\t\n",
    "- Response variable/Target: defined by the particular research question a study seeks to address, and measures the outcome of interest in the study\n",
    "- Explanatory variable/Feature: a secondary variable(s) that explains changes in the response variable"
   ]
  },
  {
   "cell_type": "markdown",
   "id": "602a2abe-d8cf-4ba5-b675-c721094b8cbb",
   "metadata": {},
   "source": [
    "### Important terminology clarification\n",
    "\n",
    "- feature\n",
    "- variable\n",
    "- attribute"
   ]
  },
  {
   "cell_type": "markdown",
   "id": "d921ea03",
   "metadata": {},
   "source": [
    "### In-class activities\n",
    "\n",
    "Suppose my research question is \"What factors may be related to the heart rate in ICU admissions?\" Try to make three data viasualizations. \n",
    "\n",
    "Things you need to decide: \n",
    "- What features I want to choose for the data visualizaiton?\n",
    "- What type of figures I will choose? \n",
    "- What information I want to achieve from the data visualization?\n",
    "- ......\n"
   ]
  },
  {
   "cell_type": "code",
   "id": "7b9d8948",
   "metadata": {
    "ExecuteTime": {
     "end_time": "2025-09-11T15:11:33.674961Z",
     "start_time": "2025-09-11T15:11:33.629928Z"
    }
   },
   "source": [
    "# Example 1: \n",
    "''' Scatter Plot for any of: Age x Heart Rate'''\n",
    "\n",
    "df.plot.scatter(x='Age', y='Heart Rate')"
   ],
   "outputs": [
    {
     "ename": "KeyError",
     "evalue": "'Heart Rate'",
     "output_type": "error",
     "traceback": [
      "\u001B[0;31m---------------------------------------------------------------------------\u001B[0m",
      "\u001B[0;31mKeyError\u001B[0m                                  Traceback (most recent call last)",
      "File \u001B[0;32m~/Documents/GitHub/ds4200/.venv/lib/python3.9/site-packages/pandas/core/indexes/base.py:3812\u001B[0m, in \u001B[0;36mIndex.get_loc\u001B[0;34m(self, key)\u001B[0m\n\u001B[1;32m   3811\u001B[0m \u001B[38;5;28;01mtry\u001B[39;00m:\n\u001B[0;32m-> 3812\u001B[0m     \u001B[38;5;28;01mreturn\u001B[39;00m \u001B[38;5;28;43mself\u001B[39;49m\u001B[38;5;241;43m.\u001B[39;49m\u001B[43m_engine\u001B[49m\u001B[38;5;241;43m.\u001B[39;49m\u001B[43mget_loc\u001B[49m\u001B[43m(\u001B[49m\u001B[43mcasted_key\u001B[49m\u001B[43m)\u001B[49m\n\u001B[1;32m   3813\u001B[0m \u001B[38;5;28;01mexcept\u001B[39;00m \u001B[38;5;167;01mKeyError\u001B[39;00m \u001B[38;5;28;01mas\u001B[39;00m err:\n",
      "File \u001B[0;32mpandas/_libs/index.pyx:167\u001B[0m, in \u001B[0;36mpandas._libs.index.IndexEngine.get_loc\u001B[0;34m()\u001B[0m\n",
      "File \u001B[0;32mpandas/_libs/index.pyx:196\u001B[0m, in \u001B[0;36mpandas._libs.index.IndexEngine.get_loc\u001B[0;34m()\u001B[0m\n",
      "File \u001B[0;32mpandas/_libs/hashtable_class_helper.pxi:7088\u001B[0m, in \u001B[0;36mpandas._libs.hashtable.PyObjectHashTable.get_item\u001B[0;34m()\u001B[0m\n",
      "File \u001B[0;32mpandas/_libs/hashtable_class_helper.pxi:7096\u001B[0m, in \u001B[0;36mpandas._libs.hashtable.PyObjectHashTable.get_item\u001B[0;34m()\u001B[0m\n",
      "\u001B[0;31mKeyError\u001B[0m: 'Heart Rate'",
      "\nThe above exception was the direct cause of the following exception:\n",
      "\u001B[0;31mKeyError\u001B[0m                                  Traceback (most recent call last)",
      "Cell \u001B[0;32mIn[16], line 4\u001B[0m\n\u001B[1;32m      2\u001B[0m \u001B[38;5;124;03m''' Scatter Plot for any of: Age x Heart Rate'''\u001B[39;00m\n\u001B[1;32m      3\u001B[0m df[\u001B[38;5;124m'\u001B[39m\u001B[38;5;124mAge\u001B[39m\u001B[38;5;124m'\u001B[39m] \u001B[38;5;241m=\u001B[39m pd\u001B[38;5;241m.\u001B[39mto_numeric(df[\u001B[38;5;124m'\u001B[39m\u001B[38;5;124mAge\u001B[39m\u001B[38;5;124m'\u001B[39m], errors\u001B[38;5;241m=\u001B[39m\u001B[38;5;124m'\u001B[39m\u001B[38;5;124mcoerce\u001B[39m\u001B[38;5;124m'\u001B[39m)\n\u001B[0;32m----> 4\u001B[0m df[\u001B[38;5;124m'\u001B[39m\u001B[38;5;124mHeart Rate\u001B[39m\u001B[38;5;124m'\u001B[39m] \u001B[38;5;241m=\u001B[39m pd\u001B[38;5;241m.\u001B[39mto_numeric(\u001B[43mdf\u001B[49m\u001B[43m[\u001B[49m\u001B[38;5;124;43m'\u001B[39;49m\u001B[38;5;124;43mHeart Rate\u001B[39;49m\u001B[38;5;124;43m'\u001B[39;49m\u001B[43m]\u001B[49m, errors\u001B[38;5;241m=\u001B[39m\u001B[38;5;124m'\u001B[39m\u001B[38;5;124mcoerce\u001B[39m\u001B[38;5;124m'\u001B[39m)\n\u001B[1;32m      5\u001B[0m df\u001B[38;5;241m.\u001B[39mplot\u001B[38;5;241m.\u001B[39mscatter(x\u001B[38;5;241m=\u001B[39m\u001B[38;5;124m'\u001B[39m\u001B[38;5;124mAge\u001B[39m\u001B[38;5;124m'\u001B[39m, y\u001B[38;5;241m=\u001B[39m\u001B[38;5;124m'\u001B[39m\u001B[38;5;124mHeart Rate\u001B[39m\u001B[38;5;124m'\u001B[39m)\n",
      "File \u001B[0;32m~/Documents/GitHub/ds4200/.venv/lib/python3.9/site-packages/pandas/core/frame.py:4107\u001B[0m, in \u001B[0;36mDataFrame.__getitem__\u001B[0;34m(self, key)\u001B[0m\n\u001B[1;32m   4105\u001B[0m \u001B[38;5;28;01mif\u001B[39;00m \u001B[38;5;28mself\u001B[39m\u001B[38;5;241m.\u001B[39mcolumns\u001B[38;5;241m.\u001B[39mnlevels \u001B[38;5;241m>\u001B[39m \u001B[38;5;241m1\u001B[39m:\n\u001B[1;32m   4106\u001B[0m     \u001B[38;5;28;01mreturn\u001B[39;00m \u001B[38;5;28mself\u001B[39m\u001B[38;5;241m.\u001B[39m_getitem_multilevel(key)\n\u001B[0;32m-> 4107\u001B[0m indexer \u001B[38;5;241m=\u001B[39m \u001B[38;5;28;43mself\u001B[39;49m\u001B[38;5;241;43m.\u001B[39;49m\u001B[43mcolumns\u001B[49m\u001B[38;5;241;43m.\u001B[39;49m\u001B[43mget_loc\u001B[49m\u001B[43m(\u001B[49m\u001B[43mkey\u001B[49m\u001B[43m)\u001B[49m\n\u001B[1;32m   4108\u001B[0m \u001B[38;5;28;01mif\u001B[39;00m is_integer(indexer):\n\u001B[1;32m   4109\u001B[0m     indexer \u001B[38;5;241m=\u001B[39m [indexer]\n",
      "File \u001B[0;32m~/Documents/GitHub/ds4200/.venv/lib/python3.9/site-packages/pandas/core/indexes/base.py:3819\u001B[0m, in \u001B[0;36mIndex.get_loc\u001B[0;34m(self, key)\u001B[0m\n\u001B[1;32m   3814\u001B[0m     \u001B[38;5;28;01mif\u001B[39;00m \u001B[38;5;28misinstance\u001B[39m(casted_key, \u001B[38;5;28mslice\u001B[39m) \u001B[38;5;129;01mor\u001B[39;00m (\n\u001B[1;32m   3815\u001B[0m         \u001B[38;5;28misinstance\u001B[39m(casted_key, abc\u001B[38;5;241m.\u001B[39mIterable)\n\u001B[1;32m   3816\u001B[0m         \u001B[38;5;129;01mand\u001B[39;00m \u001B[38;5;28many\u001B[39m(\u001B[38;5;28misinstance\u001B[39m(x, \u001B[38;5;28mslice\u001B[39m) \u001B[38;5;28;01mfor\u001B[39;00m x \u001B[38;5;129;01min\u001B[39;00m casted_key)\n\u001B[1;32m   3817\u001B[0m     ):\n\u001B[1;32m   3818\u001B[0m         \u001B[38;5;28;01mraise\u001B[39;00m InvalidIndexError(key)\n\u001B[0;32m-> 3819\u001B[0m     \u001B[38;5;28;01mraise\u001B[39;00m \u001B[38;5;167;01mKeyError\u001B[39;00m(key) \u001B[38;5;28;01mfrom\u001B[39;00m\u001B[38;5;250m \u001B[39m\u001B[38;5;21;01merr\u001B[39;00m\n\u001B[1;32m   3820\u001B[0m \u001B[38;5;28;01mexcept\u001B[39;00m \u001B[38;5;167;01mTypeError\u001B[39;00m:\n\u001B[1;32m   3821\u001B[0m     \u001B[38;5;66;03m# If we have a listlike key, _check_indexing_error will raise\u001B[39;00m\n\u001B[1;32m   3822\u001B[0m     \u001B[38;5;66;03m#  InvalidIndexError. Otherwise we fall through and re-raise\u001B[39;00m\n\u001B[1;32m   3823\u001B[0m     \u001B[38;5;66;03m#  the TypeError.\u001B[39;00m\n\u001B[1;32m   3824\u001B[0m     \u001B[38;5;28mself\u001B[39m\u001B[38;5;241m.\u001B[39m_check_indexing_error(key)\n",
      "\u001B[0;31mKeyError\u001B[0m: 'Heart Rate'"
     ]
    }
   ],
   "execution_count": 16
  },
  {
   "cell_type": "code",
   "execution_count": 23,
   "id": "7c16512d",
   "metadata": {},
   "outputs": [],
   "source": [
    "# Example 2: \n",
    "\"\"\" Box Plot for Age\"\"\"\n"
   ]
  },
  {
   "cell_type": "code",
   "execution_count": 24,
   "id": "adce3ff1",
   "metadata": {},
   "outputs": [],
   "source": [
    "# Example 3: \n",
    "''' Bar plot for type (infection, fracture, etc)'''"
   ]
  },
  {
   "cell_type": "markdown",
   "id": "4ebd2758",
   "metadata": {},
   "source": [
    "### Basic data visualization choices\n",
    "\n",
    "Here is a general guidline for the type of plots: \n",
    "\n",
    "- One categorical: bar plot\n",
    "- One continous: histogram/density plot/boxplot\n",
    "- Two continous: scatter plot\n",
    "- One categorical and one continous: side-by-side boxplot\n",
    "- Two categorical: side-by-side bar plot "
   ]
  },
  {
   "cell_type": "markdown",
   "id": "a9de79fe",
   "metadata": {},
   "source": [
    "#### One categorical: bar plot"
   ]
  },
  {
   "cell_type": "code",
   "execution_count": 25,
   "id": "20682663",
   "metadata": {},
   "outputs": [],
   "source": [
    "import matplotlib.pyplot as plt\n",
    "import seaborn as sns"
   ]
  },
  {
   "cell_type": "code",
   "execution_count": null,
   "id": "1ba2916e",
   "metadata": {},
   "outputs": [],
   "source": [
    "sns.counterplot(x = 'Status', hue = 'CPR', data = df)\n",
    "plt.title(\"Side-by-side barplot for CPR and Status\")\n",
    "plt.show()"
   ]
  },
  {
   "cell_type": "code",
   "execution_count": 26,
   "id": "00970b07",
   "metadata": {},
   "outputs": [],
   "source": [
    "\n",
    "# Display the percentage values above the bars (optional)\n",
    "#for i, value in enumerate(status_counts.values):\n",
    "#    plt.text(i, value + 1, f'{value:.2f}%', ha='center')\n",
    "#plt.show()"
   ]
  },
  {
   "cell_type": "markdown",
   "id": "69da1f69-c1d4-4d71-a787-9be0aa255ca7",
   "metadata": {},
   "source": [
    "##### What to write about a bar plot\n",
    "\n"
   ]
  },
  {
   "cell_type": "markdown",
   "id": "badb7799",
   "metadata": {},
   "source": [
    "#### One continous: histogram/density plot/boxplot"
   ]
  },
  {
   "cell_type": "code",
   "execution_count": null,
   "id": "03ba1eef",
   "metadata": {},
   "outputs": [],
   "source": []
  },
  {
   "cell_type": "code",
   "execution_count": null,
   "id": "6c246e3c",
   "metadata": {},
   "outputs": [],
   "source": []
  },
  {
   "cell_type": "code",
   "execution_count": null,
   "id": "f02fb298",
   "metadata": {},
   "outputs": [],
   "source": []
  },
  {
   "cell_type": "code",
   "execution_count": null,
   "id": "80048e58",
   "metadata": {},
   "outputs": [],
   "source": []
  },
  {
   "cell_type": "markdown",
   "id": "840e2b77",
   "metadata": {},
   "source": [
    "##### Difference between histogram/density plot/ boxplot\n",
    "\n",
    "- "
   ]
  },
  {
   "cell_type": "markdown",
   "id": "385f5a18",
   "metadata": {},
   "source": [
    "##### Difference between histogram and bar plot\n",
    "\n",
    "- "
   ]
  },
  {
   "cell_type": "markdown",
   "id": "bf2490da-34c6-4e3c-b6a8-c07b6846e6de",
   "metadata": {},
   "source": [
    "##### What to write about a histogram/density plot\n",
    "\n",
    "- "
   ]
  },
  {
   "cell_type": "markdown",
   "id": "0f5723a4-3c2b-405c-8261-99799768ad7c",
   "metadata": {},
   "source": [
    "<img src=\"https://www.biologyforlife.com/uploads/2/2/3/9/22392738/c101b0da6ea1a0dab31f80d9963b0368_orig.png\" width=\"700\" height=\"300\">"
   ]
  },
  {
   "cell_type": "markdown",
   "id": "a80eed86-a3bc-4972-82c4-ae6397d2ab68",
   "metadata": {},
   "source": []
  },
  {
   "cell_type": "markdown",
   "id": "250be839-d801-4d81-a4cb-6e263b17e5bd",
   "metadata": {},
   "source": [
    "##### What to write about a box plot\n",
    "\n",
    "- "
   ]
  },
  {
   "cell_type": "markdown",
   "id": "a336fc4a",
   "metadata": {},
   "source": [
    "#### Two continous: scatter plot"
   ]
  },
  {
   "cell_type": "code",
   "execution_count": null,
   "id": "e1acabd1",
   "metadata": {},
   "outputs": [],
   "source": []
  },
  {
   "cell_type": "markdown",
   "id": "1a0c2f5b",
   "metadata": {},
   "source": [
    "##### What to write about a scatter plot\n",
    "\n",
    "- \n"
   ]
  },
  {
   "cell_type": "markdown",
   "id": "15cfa937",
   "metadata": {},
   "source": [
    "#### Some bad example of the scatter plot"
   ]
  },
  {
   "cell_type": "code",
   "execution_count": null,
   "id": "52ccfb4b",
   "metadata": {},
   "outputs": [],
   "source": []
  },
  {
   "cell_type": "code",
   "execution_count": null,
   "id": "c40a1a55",
   "metadata": {},
   "outputs": [],
   "source": []
  },
  {
   "cell_type": "markdown",
   "id": "22614331",
   "metadata": {},
   "source": [
    "#### One categorical and one continous: side-by-side boxplot\n",
    "\n",
    "Other choices include side-by-side density plot"
   ]
  },
  {
   "cell_type": "code",
   "execution_count": null,
   "id": "fc7455a1",
   "metadata": {},
   "outputs": [],
   "source": []
  },
  {
   "cell_type": "code",
   "execution_count": null,
   "id": "1dbf09a9",
   "metadata": {},
   "outputs": [],
   "source": []
  },
  {
   "cell_type": "markdown",
   "id": "6be1f5b1",
   "metadata": {},
   "source": [
    "##### What to write about a side-by-side boxplot or density plot\n",
    "\n",
    "- highlight the difference\n",
    "\n",
    "stacked bar plot: The figure is the stacked bar plot between CPR use across different survival groups. In the figure, the distribution of \n"
   ]
  },
  {
   "cell_type": "markdown",
   "id": "471ac290",
   "metadata": {},
   "source": [
    "#### Two categorical: side-by-side bar plot"
   ]
  },
  {
   "cell_type": "code",
   "execution_count": null,
   "id": "c135ba13",
   "metadata": {},
   "outputs": [],
   "source": []
  },
  {
   "cell_type": "code",
   "execution_count": null,
   "id": "939bf49f-266c-4001-a203-166d6d28bdb8",
   "metadata": {},
   "outputs": [],
   "source": []
  },
  {
   "cell_type": "code",
   "execution_count": null,
   "id": "8b961719-bd63-44c5-b26a-92badd5de994",
   "metadata": {},
   "outputs": [],
   "source": []
  },
  {
   "cell_type": "markdown",
   "id": "941f3b9b",
   "metadata": {},
   "source": [
    "##### What to write about a side-by-side bar plot\n",
    "\n",
    "- "
   ]
  },
  {
   "cell_type": "markdown",
   "id": "96a9b132",
   "metadata": {},
   "source": [
    "### In-class activities: Try to make data visualizaiton by yourself\n",
    "\n",
    "See the data with about Titanic. Try to make three data visualization to study how other features affect the \"survived\" (whether the person survived from the Titanic disaster). Once you finish, show your figures to the neighbors and describe the figures to them. \n",
    "\n",
    "Note: This is not a complete data, feel free to remove the missing valuesv(or do any other data pre-processing) before you making the plots. "
   ]
  },
  {
   "cell_type": "code",
   "execution_count": 27,
   "id": "2356da5f",
   "metadata": {},
   "outputs": [
    {
     "name": "stdout",
     "output_type": "stream",
     "text": [
      "   survived  pclass     sex   age  sibsp  parch     fare embarked  class  \\\n",
      "0         0       3    male  22.0      1      0   7.2500        S  Third   \n",
      "1         1       1  female  38.0      1      0  71.2833        C  First   \n",
      "2         1       3  female  26.0      0      0   7.9250        S  Third   \n",
      "3         1       1  female  35.0      1      0  53.1000        S  First   \n",
      "4         0       3    male  35.0      0      0   8.0500        S  Third   \n",
      "\n",
      "     who  adult_male deck  embark_town alive  alone  \n",
      "0    man        True  NaN  Southampton    no  False  \n",
      "1  woman       False    C    Cherbourg   yes  False  \n",
      "2  woman       False  NaN  Southampton   yes   True  \n",
      "3  woman       False    C  Southampton   yes  False  \n",
      "4    man        True  NaN  Southampton    no   True  \n"
     ]
    }
   ],
   "source": [
    "titanic_data = sns.load_dataset('titanic')\n",
    "print(titanic_data.head())"
   ]
  },
  {
   "cell_type": "code",
   "execution_count": null,
   "id": "0ae2eb37",
   "metadata": {},
   "outputs": [],
   "source": []
  },
  {
   "cell_type": "code",
   "execution_count": null,
   "id": "c0501f61",
   "metadata": {},
   "outputs": [],
   "source": []
  },
  {
   "cell_type": "code",
   "execution_count": null,
   "id": "46ad9771",
   "metadata": {},
   "outputs": [],
   "source": []
  },
  {
   "cell_type": "code",
   "execution_count": null,
   "id": "68e15cc8",
   "metadata": {},
   "outputs": [],
   "source": []
  },
  {
   "cell_type": "markdown",
   "id": "319c3d2f",
   "metadata": {},
   "source": [
    "#### Other options\n",
    "\n",
    "Matplotlib and seaborn also allow you to do some level of customization. \n",
    "Read the documents here to change color/size/shape for your plot. Save your work to submit to the quiz later. \n",
    "\n",
    "https://matplotlib.org/2.1.1/api/_as_gen/matplotlib.pyplot.plot.html\n"
   ]
  },
  {
   "cell_type": "markdown",
   "id": "6d513f9e",
   "metadata": {},
   "source": [
    "### Conclusion\n",
    "\n",
    "- One categorical: bar plot\n",
    "- One continous: histogram/density plot/boxplot\n",
    "- Two continous: scatter plot\n",
    "- One categorical and one continous: side-by-side boxplot\n",
    "- Two categorical: side-by-side bar plot\n",
    "\n",
    "But, wait, why?\n",
    "\n",
    "In-class activities: discuss what other options you want to have for your plots?"
   ]
  },
  {
   "cell_type": "code",
   "execution_count": null,
   "id": "6941707d",
   "metadata": {},
   "outputs": [],
   "source": []
  }
 ],
 "metadata": {
  "kernelspec": {
   "display_name": "Python 3",
   "language": "python",
   "name": "python3"
  },
  "language_info": {
   "codemirror_mode": {
    "name": "ipython",
    "version": 3
   },
   "file_extension": ".py",
   "mimetype": "text/x-python",
   "name": "python",
   "nbconvert_exporter": "python",
   "pygments_lexer": "ipython3",
   "version": "3.9.6"
  },
  "widgets": {
   "application/vnd.jupyter.widget-state+json": {
    "state": {},
    "version_major": 2,
    "version_minor": 0
   }
  }
 },
 "nbformat": 4,
 "nbformat_minor": 5
}
