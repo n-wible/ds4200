{
 "cells": [
  {
   "cell_type": "markdown",
   "id": "5838d063",
   "metadata": {},
   "source": [
    "## Review on basic Python data visualziation and data summary \n",
    "\n",
    "### Goal for today： \n",
    "\n",
    "- Review on basic data structure\n",
    "- Understand basic rules to choose figure type\n",
    "- Learn how to describe data and simple figures \n",
    "- Review basic plotting options in Python (matplotlib and seaborn)\n"
   ]
  },
  {
   "cell_type": "markdown",
   "id": "9fe22beb",
   "metadata": {},
   "source": [
    "### Describing a data set\n",
    "\n",
    "In a data table (also called ``data matrix\"), like the one below. There are two dimensions in the data: \n",
    "\n",
    "- Observations: each individual subject, case, or sample point (rows, represented with $n$)\n",
    "- Variables/Feature: characteristics that are recorded for each subject in the sample (columns, represented with $p$)\n"
   ]
  },
  {
   "cell_type": "code",
   "execution_count": 20,
   "id": "1102d2b5",
   "metadata": {},
   "outputs": [],
   "source": [
    "#pip install pandas matplotlib seaborn"
   ]
  },
  {
   "cell_type": "code",
   "execution_count": 21,
   "id": "1c074044",
   "metadata": {},
   "outputs": [],
   "source": [
    "import pandas as pd\n"
   ]
  },
  {
   "cell_type": "markdown",
   "id": "7f6746d1",
   "metadata": {},
   "source": [
    "### Describing variables\n",
    "\n",
    "There are at least two ways to describe variables:\n",
    "\t\t\n",
    "By value type:\n",
    "\t\t\n",
    "- Numerical variables: take on numerical values with meaning Mathematical operations like addition, etc. must make sense\n",
    "- Categorical variables: take on names, categories, or labels Categories are sometimes represented by numbers...\n",
    "\n",
    "By function:\n",
    "\t\t\n",
    "- Response variable/Target: defined by the particular research question a study seeks to address, and measures the outcome of interest in the study\n",
    "- Explanatory variable/Feature: a secondary variable(s) that explains changes in the response variable"
   ]
  },
  {
   "cell_type": "markdown",
   "id": "602a2abe-d8cf-4ba5-b675-c721094b8cbb",
   "metadata": {},
   "source": [
    "### Important terminology clarification\n",
    "\n",
    "- feature\n",
    "- variable\n",
    "- attribute"
   ]
  },
  {
   "cell_type": "markdown",
   "id": "d921ea03",
   "metadata": {},
   "source": [
    "### In-class activities\n",
    "\n",
    "Suppose my research question is \"What factors may be related to the heart rate in ICU admissions?\" Try to make three data viasualizations. \n",
    "\n",
    "Things you need to decide: \n",
    "- What features I want to choose for the data visualizaiton?\n",
    "- What type of figures I will choose? \n",
    "- What information I want to achieve from the data visualization?\n",
    "- ......\n"
   ]
  },
  {
   "cell_type": "code",
   "execution_count": 22,
   "id": "7b9d8948",
   "metadata": {},
   "outputs": [],
   "source": [
    "# Example 1: "
   ]
  },
  {
   "cell_type": "code",
   "execution_count": 23,
   "id": "7c16512d",
   "metadata": {},
   "outputs": [],
   "source": [
    "# Example 2: "
   ]
  },
  {
   "cell_type": "code",
   "execution_count": 24,
   "id": "adce3ff1",
   "metadata": {},
   "outputs": [],
   "source": [
    "# Example 3: "
   ]
  },
  {
   "cell_type": "markdown",
   "id": "4ebd2758",
   "metadata": {},
   "source": [
    "### Basic data visualization choices\n",
    "\n",
    "Here is a general guidline for the type of plots: \n",
    "\n",
    "- One categorical: bar plot\n",
    "- One continous: histogram/density plot/boxplot\n",
    "- Two continous: scatter plot\n",
    "- One categorical and one continous: side-by-side boxplot\n",
    "- Two categorical: side-by-side bar plot "
   ]
  },
  {
   "cell_type": "markdown",
   "id": "a9de79fe",
   "metadata": {},
   "source": [
    "#### One categorical: bar plot"
   ]
  },
  {
   "cell_type": "code",
   "execution_count": 25,
   "id": "20682663",
   "metadata": {},
   "outputs": [],
   "source": [
    "import matplotlib.pyplot as plt\n",
    "import seaborn as sns"
   ]
  },
  {
   "cell_type": "code",
   "execution_count": null,
   "id": "1ba2916e",
   "metadata": {},
   "outputs": [],
   "source": []
  },
  {
   "cell_type": "code",
   "execution_count": 26,
   "id": "00970b07",
   "metadata": {},
   "outputs": [],
   "source": [
    "\n",
    "# Display the percentage values above the bars (optional)\n",
    "#for i, value in enumerate(status_counts.values):\n",
    "#    plt.text(i, value + 1, f'{value:.2f}%', ha='center')\n",
    "#plt.show()"
   ]
  },
  {
   "cell_type": "markdown",
   "id": "69da1f69-c1d4-4d71-a787-9be0aa255ca7",
   "metadata": {},
   "source": [
    "##### What to write about a bar plot\n",
    "\n"
   ]
  },
  {
   "cell_type": "markdown",
   "id": "badb7799",
   "metadata": {},
   "source": [
    "#### One continous: histogram/density plot/boxplot"
   ]
  },
  {
   "cell_type": "code",
   "execution_count": null,
   "id": "03ba1eef",
   "metadata": {},
   "outputs": [],
   "source": []
  },
  {
   "cell_type": "code",
   "execution_count": null,
   "id": "6c246e3c",
   "metadata": {},
   "outputs": [],
   "source": []
  },
  {
   "cell_type": "code",
   "execution_count": null,
   "id": "f02fb298",
   "metadata": {},
   "outputs": [],
   "source": []
  },
  {
   "cell_type": "code",
   "execution_count": null,
   "id": "80048e58",
   "metadata": {},
   "outputs": [],
   "source": []
  },
  {
   "cell_type": "markdown",
   "id": "840e2b77",
   "metadata": {},
   "source": [
    "##### Difference between histogram/density plot/ boxplot\n",
    "\n",
    "- "
   ]
  },
  {
   "cell_type": "markdown",
   "id": "385f5a18",
   "metadata": {},
   "source": [
    "##### Difference between histogram and bar plot\n",
    "\n",
    "- "
   ]
  },
  {
   "cell_type": "markdown",
   "id": "bf2490da-34c6-4e3c-b6a8-c07b6846e6de",
   "metadata": {},
   "source": [
    "##### What to write about a histogram/density plot\n",
    "\n",
    "- "
   ]
  },
  {
   "cell_type": "markdown",
   "id": "0f5723a4-3c2b-405c-8261-99799768ad7c",
   "metadata": {},
   "source": [
    "<img src=\"https://www.biologyforlife.com/uploads/2/2/3/9/22392738/c101b0da6ea1a0dab31f80d9963b0368_orig.png\" width=\"700\" height=\"300\">"
   ]
  },
  {
   "cell_type": "markdown",
   "id": "a80eed86-a3bc-4972-82c4-ae6397d2ab68",
   "metadata": {},
   "source": []
  },
  {
   "cell_type": "markdown",
   "id": "250be839-d801-4d81-a4cb-6e263b17e5bd",
   "metadata": {},
   "source": [
    "##### What to write about a box plot\n",
    "\n",
    "- "
   ]
  },
  {
   "cell_type": "markdown",
   "id": "a336fc4a",
   "metadata": {},
   "source": [
    "#### Two continous: scatter plot"
   ]
  },
  {
   "cell_type": "code",
   "execution_count": null,
   "id": "e1acabd1",
   "metadata": {},
   "outputs": [],
   "source": []
  },
  {
   "cell_type": "markdown",
   "id": "1a0c2f5b",
   "metadata": {},
   "source": [
    "##### What to write about a scatter plot\n",
    "\n",
    "- \n"
   ]
  },
  {
   "cell_type": "markdown",
   "id": "15cfa937",
   "metadata": {},
   "source": [
    "#### Some bad example of the scatter plot"
   ]
  },
  {
   "cell_type": "code",
   "execution_count": null,
   "id": "52ccfb4b",
   "metadata": {},
   "outputs": [],
   "source": []
  },
  {
   "cell_type": "code",
   "execution_count": null,
   "id": "c40a1a55",
   "metadata": {},
   "outputs": [],
   "source": []
  },
  {
   "cell_type": "markdown",
   "id": "22614331",
   "metadata": {},
   "source": [
    "#### One categorical and one continous: side-by-side boxplot\n",
    "\n",
    "Other choices include side-by-side density plot"
   ]
  },
  {
   "cell_type": "code",
   "execution_count": null,
   "id": "fc7455a1",
   "metadata": {},
   "outputs": [],
   "source": []
  },
  {
   "cell_type": "code",
   "execution_count": null,
   "id": "1dbf09a9",
   "metadata": {},
   "outputs": [],
   "source": []
  },
  {
   "cell_type": "markdown",
   "id": "6be1f5b1",
   "metadata": {},
   "source": [
    "##### What to write about a side-by-side boxplot or density plot\n",
    "\n",
    "- \n"
   ]
  },
  {
   "cell_type": "markdown",
   "id": "471ac290",
   "metadata": {},
   "source": [
    "#### Two categorical: side-by-side bar plot"
   ]
  },
  {
   "cell_type": "code",
   "execution_count": null,
   "id": "c135ba13",
   "metadata": {},
   "outputs": [],
   "source": []
  },
  {
   "cell_type": "code",
   "execution_count": null,
   "id": "939bf49f-266c-4001-a203-166d6d28bdb8",
   "metadata": {},
   "outputs": [],
   "source": []
  },
  {
   "cell_type": "code",
   "execution_count": null,
   "id": "8b961719-bd63-44c5-b26a-92badd5de994",
   "metadata": {},
   "outputs": [],
   "source": []
  },
  {
   "cell_type": "markdown",
   "id": "941f3b9b",
   "metadata": {},
   "source": [
    "##### What to write about a side-by-side bar plot\n",
    "\n",
    "- "
   ]
  },
  {
   "cell_type": "markdown",
   "id": "96a9b132",
   "metadata": {},
   "source": [
    "### In-class activities: Try to make data visualizaiton by yourself\n",
    "\n",
    "See the data with about Titanic. Try to make three data visualization to study how other features affect the \"survived\" (whether the person survived from the Titanic disaster). Once you finish, show your figures to the neighbors and describe the figures to them. \n",
    "\n",
    "Note: This is not a complete data, feel free to remove the missing valuesv(or do any other data pre-processing) before you making the plots. "
   ]
  },
  {
   "cell_type": "code",
   "execution_count": 27,
   "id": "2356da5f",
   "metadata": {},
   "outputs": [
    {
     "name": "stdout",
     "output_type": "stream",
     "text": [
      "   survived  pclass     sex   age  sibsp  parch     fare embarked  class  \\\n",
      "0         0       3    male  22.0      1      0   7.2500        S  Third   \n",
      "1         1       1  female  38.0      1      0  71.2833        C  First   \n",
      "2         1       3  female  26.0      0      0   7.9250        S  Third   \n",
      "3         1       1  female  35.0      1      0  53.1000        S  First   \n",
      "4         0       3    male  35.0      0      0   8.0500        S  Third   \n",
      "\n",
      "     who  adult_male deck  embark_town alive  alone  \n",
      "0    man        True  NaN  Southampton    no  False  \n",
      "1  woman       False    C    Cherbourg   yes  False  \n",
      "2  woman       False  NaN  Southampton   yes   True  \n",
      "3  woman       False    C  Southampton   yes  False  \n",
      "4    man        True  NaN  Southampton    no   True  \n"
     ]
    }
   ],
   "source": [
    "titanic_data = sns.load_dataset('titanic')\n",
    "print(titanic_data.head())"
   ]
  },
  {
   "cell_type": "code",
   "execution_count": null,
   "id": "0ae2eb37",
   "metadata": {},
   "outputs": [],
   "source": []
  },
  {
   "cell_type": "code",
   "execution_count": null,
   "id": "c0501f61",
   "metadata": {},
   "outputs": [],
   "source": []
  },
  {
   "cell_type": "code",
   "execution_count": null,
   "id": "46ad9771",
   "metadata": {},
   "outputs": [],
   "source": []
  },
  {
   "cell_type": "code",
   "execution_count": null,
   "id": "68e15cc8",
   "metadata": {},
   "outputs": [],
   "source": []
  },
  {
   "cell_type": "markdown",
   "id": "319c3d2f",
   "metadata": {},
   "source": [
    "#### Other options\n",
    "\n",
    "Matplotlib and seaborn also allow you to do some level of customization. \n",
    "Read the documents here to change color/size/shape for your plot. Save your work to submit to the quiz later. \n",
    "\n",
    "https://matplotlib.org/2.1.1/api/_as_gen/matplotlib.pyplot.plot.html\n"
   ]
  },
  {
   "cell_type": "markdown",
   "id": "6d513f9e",
   "metadata": {},
   "source": [
    "### Conclusion\n",
    "\n",
    "- One categorical: bar plot\n",
    "- One continous: histogram/density plot/boxplot\n",
    "- Two continous: scatter plot\n",
    "- One categorical and one continous: side-by-side boxplot\n",
    "- Two categorical: side-by-side bar plot\n",
    "\n",
    "But, wait, why?\n",
    "\n",
    "In-class activities: discuss what other options you want to have for your plots?"
   ]
  },
  {
   "cell_type": "code",
   "execution_count": null,
   "id": "6941707d",
   "metadata": {},
   "outputs": [],
   "source": []
  }
 ],
 "metadata": {
  "kernelspec": {
   "display_name": "Python 3",
   "language": "python",
   "name": "python3"
  },
  "language_info": {
   "codemirror_mode": {
    "name": "ipython",
    "version": 3
   },
   "file_extension": ".py",
   "mimetype": "text/x-python",
   "name": "python",
   "nbconvert_exporter": "python",
   "pygments_lexer": "ipython3",
   "version": "3.9.6"
  },
  "widgets": {
   "application/vnd.jupyter.widget-state+json": {
    "state": {},
    "version_major": 2,
    "version_minor": 0
   }
  }
 },
 "nbformat": 4,
 "nbformat_minor": 5
}
